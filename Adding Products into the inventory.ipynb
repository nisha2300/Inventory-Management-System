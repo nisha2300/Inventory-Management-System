{
 "cells": [
  {
   "cell_type": "markdown",
   "id": "16c32cc1",
   "metadata": {},
   "source": [
    "# Reading from Record.json"
   ]
  },
  {
   "cell_type": "code",
   "execution_count": null,
   "id": "1c9cec75",
   "metadata": {},
   "outputs": [],
   "source": [
    "import json\n",
    "\n",
    "file = open(\"Record.json\", 'r')\n",
    "r = file.read()\n",
    "file.close()\n",
    "\n",
    "records = json.loads(r)"
   ]
  },
  {
   "cell_type": "markdown",
   "id": "8d558bf4",
   "metadata": {},
   "source": [
    "# Functionality"
   ]
  },
  {
   "cell_type": "code",
   "execution_count": null,
   "id": "aa8d13ff",
   "metadata": {
    "scrolled": true
   },
   "outputs": [],
   "source": [
    "print(\"What you want to do with the inventory?\")\n",
    "print(\"*****************************************************\")\n",
    "print(\"1. Add more items into the inventory\\n2. Delete item from the inventory\\n3. Update quantity of specific item\\n4 To see details of items present in the inventory\")\n",
    "print(\"*****************************************************\")\n",
    "shopkeeper_input = int(input(\"Enter your Choice.: \"))\n",
    "\n",
    "if shopkeeper_input == 1:\n",
    "    print(\"-----ENTER PRODUCT DETAILS-----\")\n",
    "    prod_id = input(\"Product id: \")\n",
    "    category = input(\"Category: \")\n",
    "    name = input(\"Name: \")\n",
    "    price = int(input(\"Price: \"))\n",
    "    quantity = int(input(\"Quantity: \"))\n",
    "    mg_date = input(\"Manufacturing Date: \")\n",
    "    exp_date = input(\"Expiring Date: \")\n",
    "    \n",
    "    records[prod_id] = {\"category\": category, \"name\": name, \"price\": price, \"qty\": quantity, \"mg_date\": mg_date, \"exp_date\": exp_date}\n",
    "    \n",
    "elif shopkeeper_input == 2:\n",
    "    pi = input(\"Enter the product id whose details need to be deleted: \")\n",
    "    del records[pi]\n",
    "    print(\"Successfully Deleted!\")\n",
    "\n",
    "elif shopkeeper_input == 3:\n",
    "    pi = input(\"Enter Product id of the item whose quantity needs to be updated: \")\n",
    "    qty = int(input(\"Enter new quantity: \"))\n",
    "    records[pi][\"qty\"] = qty\n",
    "    print(records[pi])\n",
    "       \n",
    "     \n",
    "    \n",
    "elif shopkeeper_input == 4:\n",
    "    print(\"\\n-----These are the products details of inventory-----\\n\")\n",
    "    for i in records.keys():\n",
    "        print(i, records[i])\n",
    "        \n",
    "else: \n",
    "    print(\"Oops! Invalid input!\")      \n",
    "\n",
    "  \n",
    "\n",
    "    "
   ]
  },
  {
   "cell_type": "markdown",
   "id": "99075569",
   "metadata": {},
   "source": [
    "# Writing into Record.json"
   ]
  },
  {
   "cell_type": "code",
   "execution_count": null,
   "id": "57aa3af2",
   "metadata": {},
   "outputs": [],
   "source": [
    "r = json.dumps(records)\n",
    "\n",
    "fd = open(\"Record.json\", 'w')\n",
    "fd.write(r)\n",
    "fd.close()"
   ]
  }
 ],
 "metadata": {
  "kernelspec": {
   "display_name": "Python 3",
   "language": "python",
   "name": "python3"
  },
  "language_info": {
   "codemirror_mode": {
    "name": "ipython",
    "version": 3
   },
   "file_extension": ".py",
   "mimetype": "text/x-python",
   "name": "python",
   "nbconvert_exporter": "python",
   "pygments_lexer": "ipython3",
   "version": "3.8.8"
  }
 },
 "nbformat": 4,
 "nbformat_minor": 5
}
