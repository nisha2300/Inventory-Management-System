{
 "cells": [
  {
   "cell_type": "markdown",
   "id": "e4c9de73",
   "metadata": {},
   "source": [
    "# Reading from Record.json"
   ]
  },
  {
   "cell_type": "code",
   "execution_count": null,
   "id": "00b239c6",
   "metadata": {},
   "outputs": [],
   "source": [
    "import json\n",
    "\n",
    "fd = open(\"Record.json\", 'r')\n",
    "r = fd.read()\n",
    "fd.close()\n",
    "\n",
    "records = json.loads(r)\n"
   ]
  },
  {
   "cell_type": "markdown",
   "id": "1c91497a",
   "metadata": {},
   "source": [
    "# Printing Items"
   ]
  },
  {
   "cell_type": "code",
   "execution_count": null,
   "id": "f7b78d79",
   "metadata": {},
   "outputs": [],
   "source": [
    "print(\"********** List of Products We have in our Inventory **********\\n\")\n",
    "\n",
    "for i in records.keys():\n",
    "    var = i + \" : \" + records[i][\"name\"] + \" ----- \" + str(records[i][\"price\"]) + \" Rs.\"\n",
    "    print(var)"
   ]
  },
  {
   "cell_type": "markdown",
   "id": "b2119476",
   "metadata": {},
   "source": [
    "# Variables Declare"
   ]
  },
  {
   "cell_type": "code",
   "execution_count": null,
   "id": "a828f3c9",
   "metadata": {},
   "outputs": [],
   "source": [
    "billing_amount = 0\n",
    "lst_pi = []\n",
    "lst_qty = []"
   ]
  },
  {
   "cell_type": "markdown",
   "id": "578fe02c",
   "metadata": {},
   "source": [
    "# Purchase and Bill"
   ]
  },
  {
   "cell_type": "code",
   "execution_count": null,
   "id": "a43ba139",
   "metadata": {
    "scrolled": true
   },
   "outputs": [],
   "source": [
    "user_name = input(\"Enter your Name: \")\n",
    "user_phone = input(\"Enter your Phone no.\")\n",
    "user_input = int(input(\"Enter the number of products you want: \"))\n",
    "\n",
    "for i in range(1, user_input + 1):\n",
    "    print(\"********************\")\n",
    "    print(\"Product no.\",i)\n",
    "    print(\"********************\")\n",
    "    user_pi = input(\"Enter product id: \")  \n",
    "    \n",
    "    if user_pi not in records.keys():\n",
    "        print(\".......................\")\n",
    "        print(\"Invalid Producut id!\")\n",
    "        print(\".......................\")\n",
    "        user_pi = input(\"Please enter valid product id: \") \n",
    "        \n",
    "    user_qty = int(input(\"Enter quantity: \"))\n",
    "    \n",
    "    if user_qty > records[user_pi][\"qty\"]:\n",
    "        print(\".................................\")\n",
    "        print(\"Sorry! We have only limited quantity in stock.\\nWe have \" + str(records[user_pi][\"qty\"]) + \" quantities available\" )\n",
    "        print(\".................................\")\n",
    "        user_qty = int(input(\"Please enter quantity again: \"))\n",
    "                \n",
    "    lst_pi.append(user_pi)\n",
    "    lst_qty.append(user_qty)\n",
    "    \n",
    "    records[user_pi][\"qty\"] -= user_qty\n",
    "    billing_amount += records[user_pi][\"price\"] * user_qty\n",
    "               \n",
    "\n",
    "print(\"\\n************* BILLING **************\")    \n",
    "for i,j in zip(lst_pi, lst_qty):\n",
    "    \n",
    "    print(\"Product id: \", i)\n",
    "    print(\"Name: \", records[i][\"name\"])\n",
    "    print(\"Price: \", records[i][\"price\"])\n",
    "    print(\"Quantity: \", j)\n",
    "    print(\"---------------------------------\")\n",
    "    \n",
    "\n",
    "print(\"---------------------------------\")\n",
    "print(\"Total Amount: \", billing_amount)\n",
    "print(\"\\n************ THANK YOU ************\")\n",
    "\n",
    "payment_mode = input(\"\\nEnter the mode of payment: \")\n",
    "\n",
    "print(\"\\nThank You for Shopping with us!\") \n",
    "    \n"
   ]
  },
  {
   "cell_type": "markdown",
   "id": "22d63b38",
   "metadata": {},
   "source": [
    "# Writing into Record.json"
   ]
  },
  {
   "cell_type": "code",
   "execution_count": null,
   "id": "e7d5664b",
   "metadata": {},
   "outputs": [],
   "source": [
    "r = json.dumps(records)\n",
    "fd = open(\"Record.json\", 'w')\n",
    "fd.write(r)\n",
    "fd.close()"
   ]
  },
  {
   "cell_type": "markdown",
   "id": "b57bbb8a",
   "metadata": {},
   "source": [
    "# Writing into Sales.json"
   ]
  },
  {
   "cell_type": "code",
   "execution_count": null,
   "id": "8e5d8f85",
   "metadata": {},
   "outputs": [],
   "source": [
    "fd = open(\"Sales.json\",'r')\n",
    "s = fd.read()\n",
    "fd.close()\n",
    "\n",
    "sales = json.loads(s)\n",
    "\n",
    "trans_id = len(sales)+1\n",
    "sales[trans_id] = {\"cust_name\": user_name, \"cust_phno\": user_phone, \"prod_bought\": lst_pi, \"prod_qty\": lst_qty, \"payment_mode\": payment_mode, \"total_bill\": billing_amount}\n",
    "\n",
    "s = json.dumps(sales)\n",
    "fd = open(\"Sales.json\", 'w')\n",
    "fd.write(s)\n",
    "fd.close()"
   ]
  }
 ],
 "metadata": {
  "kernelspec": {
   "display_name": "Python 3",
   "language": "python",
   "name": "python3"
  },
  "language_info": {
   "codemirror_mode": {
    "name": "ipython",
    "version": 3
   },
   "file_extension": ".py",
   "mimetype": "text/x-python",
   "name": "python",
   "nbconvert_exporter": "python",
   "pygments_lexer": "ipython3",
   "version": "3.8.8"
  }
 },
 "nbformat": 4,
 "nbformat_minor": 5
}
